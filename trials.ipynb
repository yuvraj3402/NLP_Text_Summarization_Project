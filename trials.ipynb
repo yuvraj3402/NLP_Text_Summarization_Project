{
 "cells": [
  {
   "cell_type": "code",
   "execution_count": null,
   "metadata": {},
   "outputs": [],
   "source": [
    "from textSummarizer.pipeline import Pipeline\n",
    "\n",
    "piepline_obj=Pipeline()\n",
    "\n",
    "\n",
    "piepline_obj.run_pipeline()"
   ]
  },
  {
   "cell_type": "markdown",
   "metadata": {},
   "source": [
    "## Data Ingestion"
   ]
  },
  {
   "cell_type": "code",
   "execution_count": 8,
   "metadata": {},
   "outputs": [
    {
     "data": {
      "text/plain": [
       "DataIngestionArtifact(samsum_dataset_dir='c:\\\\Users\\\\Admin\\\\OneDrive\\\\Desktop\\\\NLP_Git\\\\NLP_Text_Summarization_Project\\\\textSummarizer\\\\artifact\\\\data_ingestion\\\\2024-03-17-16-47-41\\\\ingested_data\\\\samsum_dataset')"
      ]
     },
     "execution_count": 8,
     "metadata": {},
     "output_type": "execute_result"
    }
   ],
   "source": [
    "from textSummarizer.config.configuration import configuration\n",
    "config=configuration()\n",
    "data_ingestion_config=config.get_data_ingestion_config()\n",
    "import os\n",
    "from textSummarizer.components.data_ingestion import DataIngestion\n",
    "data_ingestion=DataIngestion(data_ingestion_config=data_ingestion_config)\n",
    "data_ingestion.get_data_ingestion_artifact()\n"
   ]
  }
 ],
 "metadata": {
  "kernelspec": {
   "display_name": "Python 3",
   "language": "python",
   "name": "python3"
  },
  "language_info": {
   "codemirror_mode": {
    "name": "ipython",
    "version": 3
   },
   "file_extension": ".py",
   "mimetype": "text/x-python",
   "name": "python",
   "nbconvert_exporter": "python",
   "pygments_lexer": "ipython3",
   "version": "3.9.0"
  }
 },
 "nbformat": 4,
 "nbformat_minor": 2
}
