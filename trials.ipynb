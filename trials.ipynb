{
 "cells": [
  {
   "cell_type": "code",
   "execution_count": null,
   "metadata": {},
   "outputs": [],
   "source": [
    "from textSummarizer.pipeline import Pipeline\n",
    "piepline_obj=Pipeline()\n",
    "piepline_obj.run_pipeline()"
   ]
  },
  {
   "cell_type": "markdown",
   "metadata": {},
   "source": [
    "## Data Ingestion"
   ]
  },
  {
   "cell_type": "code",
   "execution_count": null,
   "metadata": {},
   "outputs": [],
   "source": [
    "from textSummarizer.config import configuration\n",
    "config=configuration()\n",
    "data_ingestion_config=config.get_data_ingestion_config()\n",
    "import os\n",
    "from textSummarizer.components.data_ingestion import DataIngestion\n",
    "data_ingestion=DataIngestion(data_ingestion_config=data_ingestion_config)\n",
    "ingestion_artifact=data_ingestion.initiate_data_ingestion()\n"
   ]
  },
  {
   "cell_type": "markdown",
   "metadata": {},
   "source": [
    "## Data Validation"
   ]
  },
  {
   "cell_type": "code",
   "execution_count": null,
   "metadata": {},
   "outputs": [],
   "source": [
    "from textSummarizer.config import configuration\n",
    "config=configuration()\n",
    "data_validation_config=config.get_data_validation_config()\n",
    "from textSummarizer.components.data_validation import DataValidation\n",
    "val_obj=DataValidation(data_validation_config=data_validation_config,\n",
    "                       data_ingestion_artifact=ingestion_artifact)\n",
    "val_artifact=val_obj.initiate_data_validaion()\n"
   ]
  },
  {
   "cell_type": "markdown",
   "metadata": {},
   "source": [
    "## Data Transformation"
   ]
  },
  {
   "cell_type": "code",
   "execution_count": null,
   "metadata": {},
   "outputs": [],
   "source": [
    "from textSummarizer.config import configuration\n",
    "config=configuration()\n",
    "data_transformation_config=config.get_data_transformation_config()\n",
    "from textSummarizer.components.data_transformation import DataTransformation\n"
   ]
  }
 ],
 "metadata": {
  "kernelspec": {
   "display_name": "Python 3",
   "language": "python",
   "name": "python3"
  },
  "language_info": {
   "codemirror_mode": {
    "name": "ipython",
    "version": 3
   },
   "file_extension": ".py",
   "mimetype": "text/x-python",
   "name": "python",
   "nbconvert_exporter": "python",
   "pygments_lexer": "ipython3",
   "version": "3.9.0"
  }
 },
 "nbformat": 4,
 "nbformat_minor": 2
}
